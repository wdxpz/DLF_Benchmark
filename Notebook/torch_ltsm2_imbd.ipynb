{
 "cells": [
  {
   "cell_type": "code",
   "execution_count": 1,
   "metadata": {},
   "outputs": [],
   "source": [
    "import torch\n",
    "import torch.nn.functional as F\n",
    "from torchtext import data\n",
    "from torchtext import datasets\n",
    "import time\n",
    "import random"
   ]
  },
  {
   "cell_type": "code",
   "execution_count": 2,
   "metadata": {},
   "outputs": [],
   "source": [
    "RANDOM_SEED = 123\n",
    "torch.manual_seed(RANDOM_SEED)\n",
    "\n",
    "VOCABULARY_SIZE = 20000\n",
    "LEARNING_RATE = 0.001\n",
    "BATCH_SIZE = 64\n",
    "NUM_EPOCHS = 20\n",
    "DEVICE = torch.device('cuda' if torch.cuda.is_available() else 'cpu')\n",
    "BIDIRECTIONAL = True\n",
    "\n",
    "EMBEDDING_DIM = 64\n",
    "NUM_LAYERS = 2\n",
    "HIDDEN_DIM = 64\n",
    "OUTPUT_DIM = 1"
   ]
  },
  {
   "cell_type": "markdown",
   "metadata": {},
   "source": [
    "### Dataset"
   ]
  },
  {
   "cell_type": "code",
   "execution_count": 3,
   "metadata": {},
   "outputs": [
    {
     "name": "stdout",
     "output_type": "stream",
     "text": [
      "Num Train: 20000\n",
      "Num Valid: 5000\n",
      "Num Test: 25000\n"
     ]
    }
   ],
   "source": [
    "TEXT = data.Field(tokenize='spacy',\n",
    "                  include_lengths=True) # necessary for packed_padded_sequence\n",
    "LABEL = data.LabelField(dtype=torch.float)\n",
    "train_data, test_data = datasets.IMDB.splits(TEXT, LABEL)\n",
    "train_data, valid_data = train_data.split(random_state=random.seed(RANDOM_SEED),\n",
    "                                          split_ratio=0.8)\n",
    "\n",
    "print(f'Num Train: {len(train_data)}')\n",
    "print(f'Num Valid: {len(valid_data)}')\n",
    "print(f'Num Test: {len(test_data)}')"
   ]
  },
  {
   "cell_type": "code",
   "execution_count": 4,
   "metadata": {},
   "outputs": [
    {
     "name": "stdout",
     "output_type": "stream",
     "text": [
      "Unique tokens in TEXT vocabulary: 20002\n",
      "Unique tokens in LABEL vocabulary: 2\n"
     ]
    }
   ],
   "source": [
    "TEXT.build_vocab(train_data, max_size = VOCABULARY_SIZE)\n",
    "LABEL.build_vocab(train_data)\n",
    "\n",
    "print(f\"Unique tokens in TEXT vocabulary: {len(TEXT.vocab)}\")\n",
    "print(f\"Unique tokens in LABEL vocabulary: {len(LABEL.vocab)}\")"
   ]
  },
  {
   "cell_type": "code",
   "execution_count": 5,
   "metadata": {},
   "outputs": [],
   "source": [
    "train_loader, valid_loader, test_loader = data.BucketIterator.splits(\n",
    "    (train_data, valid_data, test_data), \n",
    "    batch_size=BATCH_SIZE,\n",
    "    sort_within_batch=True, # necessary for packed_padded_sequence\n",
    "    device=DEVICE)"
   ]
  },
  {
   "cell_type": "code",
   "execution_count": 6,
   "metadata": {},
   "outputs": [
    {
     "name": "stdout",
     "output_type": "stream",
     "text": [
      "Train\n",
      "Text matrix size: torch.Size([133, 64])\n",
      "Target vector size: torch.Size([64])\n",
      "\n",
      "Valid:\n",
      "Text matrix size: torch.Size([51, 64])\n",
      "Target vector size: torch.Size([64])\n",
      "\n",
      "Test:\n",
      "Text matrix size: torch.Size([36, 64])\n",
      "Target vector size: torch.Size([64])\n"
     ]
    }
   ],
   "source": [
    "print('Train')\n",
    "for batch in train_loader:\n",
    "    print(f'Text matrix size: {batch.text[0].size()}')\n",
    "    print(f'Target vector size: {batch.label.size()}')\n",
    "    break\n",
    "    \n",
    "print('\\nValid:')\n",
    "for batch in valid_loader:\n",
    "    print(f'Text matrix size: {batch.text[0].size()}')\n",
    "    print(f'Target vector size: {batch.label.size()}')\n",
    "    break\n",
    "    \n",
    "print('\\nTest:')\n",
    "for batch in test_loader:\n",
    "    print(f'Text matrix size: {batch.text[0].size()}')\n",
    "    print(f'Target vector size: {batch.label.size()}')\n",
    "    break"
   ]
  },
  {
   "cell_type": "markdown",
   "metadata": {},
   "source": [
    "### Model"
   ]
  },
  {
   "cell_type": "code",
   "execution_count": 7,
   "metadata": {},
   "outputs": [],
   "source": [
    "import torch.nn as nn\n",
    "\n",
    "class RNN(nn.Module):\n",
    "    def __init__(self, input_dim, embedding_dim, hidden_dim, output_dim):\n",
    "        \n",
    "        super().__init__()\n",
    "        \n",
    "        self.embedding = nn.Embedding(input_dim, embedding_dim)\n",
    "        self.rnn = nn.LSTM(embedding_dim,\n",
    "                           hidden_dim,\n",
    "                           num_layers=NUM_LAYERS,\n",
    "                           bidirectional=BIDIRECTIONAL)\n",
    "        self.fc = nn.Linear(hidden_dim*2, output_dim)\n",
    "        \n",
    "    def forward(self, text, text_length):\n",
    "\n",
    "        #[sentence len, batch size] => [sentence len, batch size, embedding size]\n",
    "        embedded = self.embedding(text)\n",
    "        \n",
    "        packed = torch.nn.utils.rnn.pack_padded_sequence(embedded, text_length)\n",
    "        \n",
    "        packed_output, (hidden, cell) = self.rnn(packed)\n",
    "        \n",
    "        # combine both directions\n",
    "        combined = torch.cat((hidden[-2,:,:], hidden[-1,:,:]), dim=1)\n",
    "        \n",
    "        return self.fc(combined.squeeze(0)).view(-1)"
   ]
  },
  {
   "cell_type": "code",
   "execution_count": 8,
   "metadata": {},
   "outputs": [],
   "source": [
    "INPUT_DIM = len(TEXT.vocab)\n",
    "\n",
    "torch.manual_seed(RANDOM_SEED)\n",
    "model = RNN(INPUT_DIM, EMBEDDING_DIM, HIDDEN_DIM, OUTPUT_DIM)\n",
    "model = model.to(DEVICE)\n",
    "optimizer = torch.optim.Adam(model.parameters(), lr=LEARNING_RATE)"
   ]
  },
  {
   "cell_type": "code",
   "execution_count": 9,
   "metadata": {},
   "outputs": [],
   "source": [
    "def compute_binary_accuracy(model, data_loader, device):\n",
    "    model.eval()\n",
    "    correct_pred, num_examples = 0, 0\n",
    "    with torch.no_grad():\n",
    "        for batch_idx, batch_data in enumerate(data_loader):\n",
    "            text, text_lengths = batch_data.text\n",
    "            logits = model(text, text_lengths)\n",
    "            predicted_labels = (torch.sigmoid(logits) > 0.5).long()\n",
    "            num_examples += batch_data.label.size(0)\n",
    "            correct_pred += (predicted_labels == batch_data.label.long()).sum()\n",
    "        return correct_pred.float()/num_examples * 100"
   ]
  },
  {
   "cell_type": "code",
   "execution_count": 10,
   "metadata": {},
   "outputs": [
    {
     "name": "stdout",
     "output_type": "stream",
     "text": [
      "Epoch: 001/020 | Batch 000/313 | Cost: 0.6877\n",
      "Epoch: 001/020 | Batch 050/313 | Cost: 0.7037\n",
      "Epoch: 001/020 | Batch 100/313 | Cost: 0.6440\n",
      "Epoch: 001/020 | Batch 150/313 | Cost: 0.6080\n",
      "Epoch: 001/020 | Batch 200/313 | Cost: 0.4941\n",
      "Epoch: 001/020 | Batch 250/313 | Cost: 0.5253\n",
      "Epoch: 001/020 | Batch 300/313 | Cost: 0.5167\n",
      "training accuracy: 77.00%\n",
      "valid accuracy: 74.28%\n",
      "Time elapsed: 0.28 min\n",
      "Epoch: 002/020 | Batch 000/313 | Cost: 0.5364\n",
      "Epoch: 002/020 | Batch 050/313 | Cost: 0.3951\n",
      "Epoch: 002/020 | Batch 100/313 | Cost: 0.5225\n",
      "Epoch: 002/020 | Batch 150/313 | Cost: 0.4484\n",
      "Epoch: 002/020 | Batch 200/313 | Cost: 0.3261\n",
      "Epoch: 002/020 | Batch 250/313 | Cost: 0.4159\n",
      "Epoch: 002/020 | Batch 300/313 | Cost: 0.4329\n",
      "training accuracy: 82.87%\n",
      "valid accuracy: 80.02%\n",
      "Time elapsed: 0.57 min\n",
      "Epoch: 003/020 | Batch 000/313 | Cost: 0.4871\n",
      "Epoch: 003/020 | Batch 050/313 | Cost: 0.6923\n",
      "Epoch: 003/020 | Batch 100/313 | Cost: 0.4014\n",
      "Epoch: 003/020 | Batch 150/313 | Cost: 0.4068\n",
      "Epoch: 003/020 | Batch 200/313 | Cost: 0.3569\n",
      "Epoch: 003/020 | Batch 250/313 | Cost: 0.3588\n",
      "Epoch: 003/020 | Batch 300/313 | Cost: 0.4273\n",
      "training accuracy: 85.24%\n",
      "valid accuracy: 80.94%\n",
      "Time elapsed: 0.86 min\n",
      "Epoch: 004/020 | Batch 000/313 | Cost: 0.4269\n",
      "Epoch: 004/020 | Batch 050/313 | Cost: 0.3197\n",
      "Epoch: 004/020 | Batch 100/313 | Cost: 0.4002\n",
      "Epoch: 004/020 | Batch 150/313 | Cost: 0.2887\n",
      "Epoch: 004/020 | Batch 200/313 | Cost: 0.2280\n",
      "Epoch: 004/020 | Batch 250/313 | Cost: 0.2945\n",
      "Epoch: 004/020 | Batch 300/313 | Cost: 0.1634\n",
      "training accuracy: 87.64%\n",
      "valid accuracy: 82.90%\n",
      "Time elapsed: 1.16 min\n",
      "Epoch: 005/020 | Batch 000/313 | Cost: 0.3145\n",
      "Epoch: 005/020 | Batch 050/313 | Cost: 0.6235\n",
      "Epoch: 005/020 | Batch 100/313 | Cost: 0.2560\n",
      "Epoch: 005/020 | Batch 150/313 | Cost: 0.2907\n",
      "Epoch: 005/020 | Batch 200/313 | Cost: 0.1569\n",
      "Epoch: 005/020 | Batch 250/313 | Cost: 0.1371\n",
      "Epoch: 005/020 | Batch 300/313 | Cost: 0.2184\n",
      "training accuracy: 91.74%\n",
      "valid accuracy: 85.18%\n",
      "Time elapsed: 1.45 min\n",
      "Epoch: 006/020 | Batch 000/313 | Cost: 0.3038\n",
      "Epoch: 006/020 | Batch 050/313 | Cost: 0.3455\n",
      "Epoch: 006/020 | Batch 100/313 | Cost: 0.4531\n",
      "Epoch: 006/020 | Batch 150/313 | Cost: 0.2576\n",
      "Epoch: 006/020 | Batch 200/313 | Cost: 0.4464\n",
      "Epoch: 006/020 | Batch 250/313 | Cost: 0.3277\n",
      "Epoch: 006/020 | Batch 300/313 | Cost: 0.3070\n",
      "training accuracy: 89.07%\n",
      "valid accuracy: 82.26%\n",
      "Time elapsed: 1.74 min\n",
      "Epoch: 007/020 | Batch 000/313 | Cost: 0.2680\n",
      "Epoch: 007/020 | Batch 050/313 | Cost: 0.2444\n",
      "Epoch: 007/020 | Batch 100/313 | Cost: 0.2474\n",
      "Epoch: 007/020 | Batch 150/313 | Cost: 0.2198\n",
      "Epoch: 007/020 | Batch 200/313 | Cost: 0.1681\n",
      "Epoch: 007/020 | Batch 250/313 | Cost: 0.4141\n",
      "Epoch: 007/020 | Batch 300/313 | Cost: 0.3107\n",
      "training accuracy: 93.11%\n",
      "valid accuracy: 85.84%\n",
      "Time elapsed: 2.03 min\n",
      "Epoch: 008/020 | Batch 000/313 | Cost: 0.2394\n",
      "Epoch: 008/020 | Batch 050/313 | Cost: 0.9466\n",
      "Epoch: 008/020 | Batch 100/313 | Cost: 0.2951\n",
      "Epoch: 008/020 | Batch 150/313 | Cost: 0.2171\n",
      "Epoch: 008/020 | Batch 200/313 | Cost: 0.2441\n",
      "Epoch: 008/020 | Batch 250/313 | Cost: 0.1569\n",
      "Epoch: 008/020 | Batch 300/313 | Cost: 0.2140\n",
      "training accuracy: 92.01%\n",
      "valid accuracy: 85.38%\n",
      "Time elapsed: 2.31 min\n",
      "Epoch: 009/020 | Batch 000/313 | Cost: 0.2464\n",
      "Epoch: 009/020 | Batch 050/313 | Cost: 0.2047\n",
      "Epoch: 009/020 | Batch 100/313 | Cost: 0.1312\n",
      "Epoch: 009/020 | Batch 150/313 | Cost: 0.3258\n",
      "Epoch: 009/020 | Batch 200/313 | Cost: 0.1269\n",
      "Epoch: 009/020 | Batch 250/313 | Cost: 0.2050\n",
      "Epoch: 009/020 | Batch 300/313 | Cost: 0.1736\n",
      "training accuracy: 91.90%\n",
      "valid accuracy: 84.16%\n",
      "Time elapsed: 2.60 min\n",
      "Epoch: 010/020 | Batch 000/313 | Cost: 0.3000\n",
      "Epoch: 010/020 | Batch 050/313 | Cost: 0.1423\n",
      "Epoch: 010/020 | Batch 100/313 | Cost: 0.0654\n",
      "Epoch: 010/020 | Batch 150/313 | Cost: 0.1292\n",
      "Epoch: 010/020 | Batch 200/313 | Cost: 0.1690\n",
      "Epoch: 010/020 | Batch 250/313 | Cost: 0.1254\n",
      "Epoch: 010/020 | Batch 300/313 | Cost: 0.1103\n",
      "training accuracy: 95.85%\n",
      "valid accuracy: 87.10%\n",
      "Time elapsed: 2.89 min\n",
      "Epoch: 011/020 | Batch 000/313 | Cost: 0.0953\n",
      "Epoch: 011/020 | Batch 050/313 | Cost: 0.0554\n",
      "Epoch: 011/020 | Batch 100/313 | Cost: 0.0431\n",
      "Epoch: 011/020 | Batch 150/313 | Cost: 0.1582\n",
      "Epoch: 011/020 | Batch 200/313 | Cost: 0.1221\n",
      "Epoch: 011/020 | Batch 250/313 | Cost: 0.1489\n",
      "Epoch: 011/020 | Batch 300/313 | Cost: 0.0857\n",
      "training accuracy: 96.28%\n",
      "valid accuracy: 86.94%\n",
      "Time elapsed: 3.17 min\n",
      "Epoch: 012/020 | Batch 000/313 | Cost: 0.0786\n",
      "Epoch: 012/020 | Batch 050/313 | Cost: 0.2003\n",
      "Epoch: 012/020 | Batch 100/313 | Cost: 0.0799\n",
      "Epoch: 012/020 | Batch 150/313 | Cost: 0.0920\n",
      "Epoch: 012/020 | Batch 200/313 | Cost: 0.2459\n",
      "Epoch: 012/020 | Batch 250/313 | Cost: 0.0481\n",
      "Epoch: 012/020 | Batch 300/313 | Cost: 0.0329\n",
      "training accuracy: 98.34%\n",
      "valid accuracy: 88.10%\n",
      "Time elapsed: 3.46 min\n",
      "Epoch: 013/020 | Batch 000/313 | Cost: 0.0303\n",
      "Epoch: 013/020 | Batch 050/313 | Cost: 0.0749\n",
      "Epoch: 013/020 | Batch 100/313 | Cost: 0.0221\n",
      "Epoch: 013/020 | Batch 150/313 | Cost: 0.0434\n",
      "Epoch: 013/020 | Batch 200/313 | Cost: 0.0313\n",
      "Epoch: 013/020 | Batch 250/313 | Cost: 0.0201\n",
      "Epoch: 013/020 | Batch 300/313 | Cost: 0.0237\n",
      "training accuracy: 98.88%\n",
      "valid accuracy: 87.70%\n",
      "Time elapsed: 3.75 min\n",
      "Epoch: 014/020 | Batch 000/313 | Cost: 0.0115\n",
      "Epoch: 014/020 | Batch 050/313 | Cost: 0.0350\n",
      "Epoch: 014/020 | Batch 100/313 | Cost: 0.0135\n",
      "Epoch: 014/020 | Batch 150/313 | Cost: 0.0313\n",
      "Epoch: 014/020 | Batch 200/313 | Cost: 0.0147\n",
      "Epoch: 014/020 | Batch 250/313 | Cost: 0.0901\n",
      "Epoch: 014/020 | Batch 300/313 | Cost: 0.0196\n",
      "training accuracy: 99.03%\n",
      "valid accuracy: 87.58%\n",
      "Time elapsed: 4.04 min\n",
      "Epoch: 015/020 | Batch 000/313 | Cost: 0.1172\n",
      "Epoch: 015/020 | Batch 050/313 | Cost: 0.0245\n",
      "Epoch: 015/020 | Batch 100/313 | Cost: 0.0359\n",
      "Epoch: 015/020 | Batch 150/313 | Cost: 0.0047\n",
      "Epoch: 015/020 | Batch 200/313 | Cost: 0.0151\n",
      "Epoch: 015/020 | Batch 250/313 | Cost: 0.0255\n",
      "Epoch: 015/020 | Batch 300/313 | Cost: 0.0420\n",
      "training accuracy: 99.02%\n",
      "valid accuracy: 87.18%\n",
      "Time elapsed: 4.33 min\n",
      "Epoch: 016/020 | Batch 000/313 | Cost: 0.0329\n",
      "Epoch: 016/020 | Batch 050/313 | Cost: 0.0023\n",
      "Epoch: 016/020 | Batch 100/313 | Cost: 0.0607\n",
      "Epoch: 016/020 | Batch 150/313 | Cost: 0.0102\n",
      "Epoch: 016/020 | Batch 200/313 | Cost: 0.0098\n",
      "Epoch: 016/020 | Batch 250/313 | Cost: 0.0149\n",
      "Epoch: 016/020 | Batch 300/313 | Cost: 0.0660\n",
      "training accuracy: 99.65%\n",
      "valid accuracy: 87.94%\n",
      "Time elapsed: 4.61 min\n",
      "Epoch: 017/020 | Batch 000/313 | Cost: 0.0394\n",
      "Epoch: 017/020 | Batch 050/313 | Cost: 0.0139\n",
      "Epoch: 017/020 | Batch 100/313 | Cost: 0.0030\n",
      "Epoch: 017/020 | Batch 150/313 | Cost: 0.0021\n",
      "Epoch: 017/020 | Batch 200/313 | Cost: 0.0075\n",
      "Epoch: 017/020 | Batch 250/313 | Cost: 0.1294\n",
      "Epoch: 017/020 | Batch 300/313 | Cost: 0.2197\n",
      "training accuracy: 98.61%\n",
      "valid accuracy: 86.42%\n",
      "Time elapsed: 4.89 min\n",
      "Epoch: 018/020 | Batch 000/313 | Cost: 0.0161\n",
      "Epoch: 018/020 | Batch 050/313 | Cost: 0.0039\n",
      "Epoch: 018/020 | Batch 100/313 | Cost: 0.0367\n",
      "Epoch: 018/020 | Batch 150/313 | Cost: 0.0069\n",
      "Epoch: 018/020 | Batch 200/313 | Cost: 0.0175\n",
      "Epoch: 018/020 | Batch 250/313 | Cost: 0.0292\n",
      "Epoch: 018/020 | Batch 300/313 | Cost: 0.0101\n",
      "training accuracy: 99.71%\n",
      "valid accuracy: 87.74%\n",
      "Time elapsed: 5.17 min\n",
      "Epoch: 019/020 | Batch 000/313 | Cost: 0.0064\n",
      "Epoch: 019/020 | Batch 050/313 | Cost: 0.0072\n",
      "Epoch: 019/020 | Batch 100/313 | Cost: 0.0009\n",
      "Epoch: 019/020 | Batch 150/313 | Cost: 0.0309\n",
      "Epoch: 019/020 | Batch 200/313 | Cost: 0.0183\n",
      "Epoch: 019/020 | Batch 250/313 | Cost: 0.0091\n",
      "Epoch: 019/020 | Batch 300/313 | Cost: 0.0166\n",
      "training accuracy: 99.82%\n",
      "valid accuracy: 88.00%\n",
      "Time elapsed: 5.46 min\n",
      "Epoch: 020/020 | Batch 000/313 | Cost: 0.0033\n",
      "Epoch: 020/020 | Batch 050/313 | Cost: 0.0029\n",
      "Epoch: 020/020 | Batch 100/313 | Cost: 0.0470\n",
      "Epoch: 020/020 | Batch 150/313 | Cost: 0.0030\n",
      "Epoch: 020/020 | Batch 200/313 | Cost: 0.0507\n",
      "Epoch: 020/020 | Batch 250/313 | Cost: 0.0036\n",
      "Epoch: 020/020 | Batch 300/313 | Cost: 0.0211\n",
      "training accuracy: 99.51%\n",
      "valid accuracy: 86.60%\n",
      "Time elapsed: 5.74 min\n",
      "Total Training Time: 5.74 min\n",
      "Test accuracy: 84.86%\n"
     ]
    }
   ],
   "source": [
    "start_time = time.time()\n",
    "\n",
    "for epoch in range(NUM_EPOCHS):\n",
    "    model.train()\n",
    "    for batch_idx, batch_data in enumerate(train_loader):\n",
    "        \n",
    "        text, text_lengths = batch_data.text\n",
    "        \n",
    "        ### FORWARD AND BACK PROP\n",
    "        logits = model(text, text_lengths)\n",
    "        cost = F.binary_cross_entropy_with_logits(logits, batch_data.label)\n",
    "        optimizer.zero_grad()\n",
    "        \n",
    "        cost.backward()\n",
    "        \n",
    "        ### UPDATE MODEL PARAMETERS\n",
    "        optimizer.step()\n",
    "        \n",
    "        ### LOGGING\n",
    "        if not batch_idx % 50:\n",
    "            print (f'Epoch: {epoch+1:03d}/{NUM_EPOCHS:03d} | '\n",
    "                   f'Batch {batch_idx:03d}/{len(train_loader):03d} | '\n",
    "                   f'Cost: {cost:.4f}')\n",
    "\n",
    "    with torch.set_grad_enabled(False):\n",
    "        print(f'training accuracy: '\n",
    "              f'{compute_binary_accuracy(model, train_loader, DEVICE):.2f}%'\n",
    "              f'\\nvalid accuracy: '\n",
    "              f'{compute_binary_accuracy(model, valid_loader, DEVICE):.2f}%')\n",
    "        \n",
    "    print(f'Time elapsed: {(time.time() - start_time)/60:.2f} min')\n",
    "    \n",
    "print(f'Total Training Time: {(time.time() - start_time)/60:.2f} min')\n",
    "print(f'Test accuracy: {compute_binary_accuracy(model, test_loader, DEVICE):.2f}%')"
   ]
  },
  {
   "cell_type": "code",
   "execution_count": 11,
   "metadata": {},
   "outputs": [],
   "source": [
    "import spacy\n",
    "nlp = spacy.load('en')\n",
    "\n",
    "def predict_sentiment(model, sentence):\n",
    "    # based on:\n",
    "    # https://github.com/bentrevett/pytorch-sentiment-analysis/blob/\n",
    "    # master/2%20-%20Upgraded%20Sentiment%20Analysis.ipynb\n",
    "    model.eval()\n",
    "    tokenized = [tok.text for tok in nlp.tokenizer(sentence)]\n",
    "    indexed = [TEXT.vocab.stoi[t] for t in tokenized]\n",
    "    length = [len(indexed)]\n",
    "    tensor = torch.LongTensor(indexed).to(DEVICE)\n",
    "    tensor = tensor.unsqueeze(1)\n",
    "    length_tensor = torch.LongTensor(length)\n",
    "    prediction = torch.sigmoid(model(tensor, length_tensor))\n",
    "    return prediction.item()"
   ]
  },
  {
   "cell_type": "code",
   "execution_count": 12,
   "metadata": {},
   "outputs": [
    {
     "name": "stdout",
     "output_type": "stream",
     "text": [
      "Probability negative:\n"
     ]
    },
    {
     "data": {
      "text/plain": [
       "6.73012764309533e-05"
      ]
     },
     "execution_count": 12,
     "metadata": {},
     "output_type": "execute_result"
    }
   ],
   "source": [
    "print('Probability negative:')\n",
    "predict_sentiment(model, \"The movie was not good. The animation and the graphics were terrible. I would not recommend this movie.\")"
   ]
  },
  {
   "cell_type": "code",
   "execution_count": 13,
   "metadata": {},
   "outputs": [
    {
     "name": "stdout",
     "output_type": "stream",
     "text": [
      "Probability positive:\n"
     ]
    },
    {
     "data": {
      "text/plain": [
       "0.9999717473983765"
      ]
     },
     "execution_count": 13,
     "metadata": {},
     "output_type": "execute_result"
    }
   ],
   "source": [
    "print('Probability positive:')\n",
    "predict_sentiment(model, \"The movie was very good. The animation and the graphics were awesome. I would greatly recommend this movie.\")\n",
    "                   "
   ]
  },
  {
   "cell_type": "code",
   "execution_count": null,
   "metadata": {},
   "outputs": [],
   "source": []
  }
 ],
 "metadata": {
  "kernelspec": {
   "display_name": "Python 2",
   "language": "python",
   "name": "python2"
  },
  "language_info": {
   "codemirror_mode": {
    "name": "ipython",
    "version": 2
   },
   "file_extension": ".py",
   "mimetype": "text/x-python",
   "name": "python",
   "nbconvert_exporter": "python",
   "pygments_lexer": "ipython2",
   "version": "2.7.12"
  }
 },
 "nbformat": 4,
 "nbformat_minor": 2
}
