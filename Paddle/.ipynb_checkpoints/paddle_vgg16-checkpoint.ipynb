{
 "cells": [
  {
   "cell_type": "code",
   "execution_count": 1,
   "metadata": {},
   "outputs": [],
   "source": [
    "from __future__ import print_function\n",
    "import paddle\n",
    "import paddle.fluid as fluid\n",
    "import numpy\n",
    "import sys"
   ]
  },
  {
   "cell_type": "code",
   "execution_count": 2,
   "metadata": {
    "scrolled": true
   },
   "outputs": [],
   "source": [
    "def vgg_bn_drop(input):\n",
    "    def conv_block(ipt, num_filter, groups, dropouts):\n",
    "        return fluid.nets.img_conv_group(\n",
    "            input=ipt,\n",
    "            pool_size=2,\n",
    "            pool_stride=2,\n",
    "            conv_num_filter=[num_filter] * groups,\n",
    "            conv_filter_size=3,\n",
    "            conv_act='relu',\n",
    "            conv_with_batchnorm=True,\n",
    "            conv_batchnorm_drop_rate=dropouts,\n",
    "            pool_type='max')\n",
    "\n",
    "    conv1 = conv_block(input, 64, 2, [0.3, 0])\n",
    "    conv2 = conv_block(conv1, 128, 2, [0.4, 0])\n",
    "    conv3 = conv_block(conv2, 256, 3, [0.4, 0.4, 0])\n",
    "    conv4 = conv_block(conv3, 512, 3, [0.4, 0.4, 0])\n",
    "    conv5 = conv_block(conv4, 512, 3, [0.4, 0.4, 0])\n",
    "\n",
    "    drop = fluid.layers.dropout(x=conv5, dropout_prob=0.5)\n",
    "    fc1 = fluid.layers.fc(input=drop, size=512, act=None)\n",
    "    bn = fluid.layers.batch_norm(input=fc1, act='relu')\n",
    "    drop2 = fluid.layers.dropout(x=bn, dropout_prob=0.5)\n",
    "    fc2 = fluid.layers.fc(input=drop2, size=512, act=None)\n",
    "    predict = fluid.layers.fc(input=fc2, size=10, act='softmax')\n",
    "    return predict"
   ]
  },
  {
   "cell_type": "code",
   "execution_count": 3,
   "metadata": {},
   "outputs": [],
   "source": [
    "def inference_program():\n",
    "    # The image is 32 * 32 with RGB representation.\n",
    "    data_shape = [3, 32, 32]\n",
    "    images = fluid.layers.data(name='pixel', shape=data_shape, dtype='float32')\n",
    "\n",
    "    predict = vgg_bn_drop(images)\n",
    "    # predict = vgg_bn_drop(images) # un-comment to use vgg net\n",
    "    return predict"
   ]
  },
  {
   "cell_type": "code",
   "execution_count": 4,
   "metadata": {},
   "outputs": [],
   "source": [
    "def train_program():\n",
    "    predict = inference_program()\n",
    "\n",
    "    label = fluid.layers.data(name='label', shape=[1], dtype='int64')\n",
    "    cost = fluid.layers.cross_entropy(input=predict, label=label)\n",
    "    avg_cost = fluid.layers.mean(cost)\n",
    "    accuracy = fluid.layers.accuracy(input=predict, label=label)\n",
    "    return [avg_cost, accuracy]"
   ]
  },
  {
   "cell_type": "code",
   "execution_count": 5,
   "metadata": {},
   "outputs": [],
   "source": [
    "def optimizer_program():\n",
    "    return fluid.optimizer.Adam(learning_rate=0.001)"
   ]
  },
  {
   "cell_type": "code",
   "execution_count": 6,
   "metadata": {},
   "outputs": [],
   "source": [
    "# Each batch will yield 32 images\n",
    "BATCH_SIZE = 64\n",
    "\n",
    "# Reader for training\n",
    "train_reader = paddle.batch(\n",
    "    paddle.reader.shuffle(paddle.dataset.cifar.train10(), buf_size=50000),\n",
    "    batch_size=BATCH_SIZE)\n",
    "\n",
    "# Reader for testing. A separated data set for testing.\n",
    "test_reader = paddle.batch(\n",
    "    paddle.dataset.cifar.test10(), batch_size=BATCH_SIZE)"
   ]
  },
  {
   "cell_type": "code",
   "execution_count": 7,
   "metadata": {},
   "outputs": [],
   "source": [
    "use_cuda = True\n",
    "place = fluid.CUDAPlace(0) if use_cuda else fluid.CPUPlace()\n",
    "\n",
    "feed_order = ['pixel', 'label']\n",
    "\n",
    "main_program = fluid.default_main_program()\n",
    "star_program = fluid.default_startup_program()\n",
    "\n",
    "avg_cost, acc = train_program()\n",
    "\n",
    "# Test program\n",
    "test_program = main_program.clone(for_test=True)\n",
    "\n",
    "optimizer = optimizer_program()\n",
    "optimizer.minimize(avg_cost)\n",
    "\n",
    "exe = fluid.Executor(place)\n",
    "\n",
    "EPOCH_NUM = 30\n",
    "\n",
    "# For training test cost\n",
    "def train_test(program, reader):\n",
    "    count = 0\n",
    "    feed_var_list = [\n",
    "        program.global_block().var(var_name) for var_name in feed_order\n",
    "    ]\n",
    "    feeder_test = fluid.DataFeeder(\n",
    "        feed_list=feed_var_list, place=place)\n",
    "    test_exe = fluid.Executor(place)\n",
    "    accumulated = len([avg_cost, acc]) * [0]\n",
    "    for tid, test_data in enumerate(reader()):\n",
    "        avg_cost_np = test_exe.run(program=program,\n",
    "                                   feed=feeder_test.feed(test_data),\n",
    "                                   fetch_list=[avg_cost, acc])\n",
    "        accumulated = [x[0] + x[1][0] for x in zip(accumulated, avg_cost_np)]\n",
    "        count += 1\n",
    "    return [x / count for x in accumulated]"
   ]
  },
  {
   "cell_type": "code",
   "execution_count": 8,
   "metadata": {},
   "outputs": [],
   "source": [
    "params_dirname = \"model/image_classification_vgg.inference.model\"\n",
    "\n",
    "from paddle.utils.plot import Ploter\n",
    "import time\n",
    "\n",
    "train_prompt = \"Train cost\"\n",
    "test_prompt = \"Test cost\"\n",
    "plot_cost = Ploter(test_prompt,train_prompt)\n",
    "RESULT_FILE = 'result/results_vgg16.txt'\n",
    "\n",
    "EPOCH_NUM = 30\n",
    "print_every = 100\n",
    "# main train loop.\n",
    "def train_loop():\n",
    "    feed_var_list_loop = [\n",
    "        main_program.global_block().var(var_name) for var_name in feed_order\n",
    "    ]\n",
    "    feeder = fluid.DataFeeder(\n",
    "        feed_list=feed_var_list_loop, place=place)\n",
    "    exe.run(star_program)\n",
    "\n",
    "    step = 1\n",
    "    \n",
    "    start_time = time.time()\n",
    "    for pass_id in range(EPOCH_NUM):\n",
    "        average_loss = 0\n",
    "        for step_id, data_train in enumerate(train_reader()):\n",
    "            avg_loss_value = exe.run(main_program,\n",
    "                                     feed=feeder.feed(data_train),\n",
    "                                     fetch_list=[avg_cost, acc])\n",
    "            average_loss += avg_loss_value[0]\n",
    "            if step % print_every == 0:\n",
    "#                 plot_cost.append(train_prompt, step, avg_loss_value[0])\n",
    "#                 plot_cost.plot()\n",
    "                average_loss = average_loss /print_every\n",
    "                print('[epoch: %3d, step: %5d] loss: %.3f' % (pass_id + 1, step, average_loss))\n",
    "                average_loss = 0\n",
    "            step += 1\n",
    "            \n",
    "            if step == 20:\n",
    "                break\n",
    "            \n",
    "    total_time = time.time() - start_time\n",
    "    with open(RESULT_FILE, 'a') as f:\n",
    "        f.write('\\n\\n\\ntraining results: \\n')\n",
    "        f.write('\\n total training time: \\t {}'.format(total_time))\n",
    "        f.write('\\n final average training lostt: \\t %.3f' % (average_loss))\n",
    "\n",
    "    start_time = time.time()\n",
    "    avg_cost_test, accuracy_test = train_test(test_program, reader=test_reader)\n",
    "    total_time = time.time() - start_time\n",
    "#     plot_cost.append(test_prompt, step, avg_cost_test)\n",
    "    s = '\\ntesting results: \\n accuracy on 1000 test images: %.3f, total time: %d s\\n' % (accuracy_test, total_time)\n",
    "    print(s)\n",
    "    with open(RESULT_FILE, 'a') as f:\n",
    "        f.write(s)\n",
    "\n",
    "    # save parameters\n",
    "#     if params_dirname is not None:\n",
    "#         fluid.io.save_inference_model(params_dirname, [\"pixel\"],\n",
    "#                                         [predict], exe)"
   ]
  },
  {
   "cell_type": "code",
   "execution_count": 9,
   "metadata": {
    "scrolled": false
   },
   "outputs": [
    {
     "name": "stdout",
     "output_type": "stream",
     "text": [
      "[epoch:   1, step:    10] loss: 2.514\n",
      "\n",
      "testing results: \n",
      " accuracy on 1000 test images: 0.100, total time: 6 s\n",
      "\n"
     ]
    },
    {
     "ename": "NameError",
     "evalue": "global name 'predict' is not defined",
     "output_type": "error",
     "traceback": [
      "\u001b[0;31m---------------------------------------------------------------------------\u001b[0m",
      "\u001b[0;31mNameError\u001b[0m                                 Traceback (most recent call last)",
      "\u001b[0;32m<ipython-input-9-6590b82f66d8>\u001b[0m in \u001b[0;36m<module>\u001b[0;34m()\u001b[0m\n\u001b[0;32m----> 1\u001b[0;31m \u001b[0mtrain_loop\u001b[0m\u001b[0;34m(\u001b[0m\u001b[0;34m)\u001b[0m\u001b[0;34m\u001b[0m\u001b[0m\n\u001b[0m",
      "\u001b[0;32m<ipython-input-8-833382bb4264>\u001b[0m in \u001b[0;36mtrain_loop\u001b[0;34m()\u001b[0m\n\u001b[1;32m     59\u001b[0m     \u001b[0;32mif\u001b[0m \u001b[0mparams_dirname\u001b[0m \u001b[0;32mis\u001b[0m \u001b[0;32mnot\u001b[0m \u001b[0mNone\u001b[0m\u001b[0;34m:\u001b[0m\u001b[0;34m\u001b[0m\u001b[0m\n\u001b[1;32m     60\u001b[0m         fluid.io.save_inference_model(params_dirname, [\"pixel\"],\n\u001b[0;32m---> 61\u001b[0;31m                                         [predict], exe)\n\u001b[0m",
      "\u001b[0;31mNameError\u001b[0m: global name 'predict' is not defined"
     ]
    }
   ],
   "source": [
    "train_loop()"
   ]
  },
  {
   "cell_type": "code",
   "execution_count": null,
   "metadata": {},
   "outputs": [],
   "source": []
  }
 ],
 "metadata": {
  "kernelspec": {
   "display_name": "Python 2",
   "language": "python",
   "name": "python2"
  },
  "language_info": {
   "codemirror_mode": {
    "name": "ipython",
    "version": 2
   },
   "file_extension": ".py",
   "mimetype": "text/x-python",
   "name": "python",
   "nbconvert_exporter": "python",
   "pygments_lexer": "ipython2",
   "version": "2.7.12"
  }
 },
 "nbformat": 4,
 "nbformat_minor": 2
}
